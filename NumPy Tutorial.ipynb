{
 "cells": [
  {
   "cell_type": "code",
   "execution_count": 80,
   "metadata": {},
   "outputs": [],
   "source": [
    "import numpy as np"
   ]
  },
  {
   "cell_type": "markdown",
   "metadata": {},
   "source": [
    "### The Basics"
   ]
  },
  {
   "cell_type": "code",
   "execution_count": 12,
   "metadata": {},
   "outputs": [
    {
     "name": "stdout",
     "output_type": "stream",
     "text": [
      "[1 2 3 4 5]\n",
      "int32\n"
     ]
    }
   ],
   "source": [
    "#Creating 1D numpy array \n",
    "a = np.array([1,2,3,4,5])\n",
    "\n",
    "print(a)"
   ]
  },
  {
   "cell_type": "code",
   "execution_count": 20,
   "metadata": {},
   "outputs": [
    {
     "name": "stdout",
     "output_type": "stream",
     "text": [
      "[[9. 8. 7.]\n",
      " [6. 5. 4.]]\n"
     ]
    }
   ],
   "source": [
    "#Creating 3D numpy array \n",
    "b = np.array([[9,8,7],[6,5,4]],dtype=np.float32)\n",
    "print(b)"
   ]
  },
  {
   "cell_type": "code",
   "execution_count": 21,
   "metadata": {},
   "outputs": [
    {
     "name": "stdout",
     "output_type": "stream",
     "text": [
      "[[[ 1  2  3  4  5]\n",
      "  [ 6  7  8  9 10]\n",
      "  [11 12 13 14 15]]\n",
      "\n",
      " [[16 17 18 19 20]\n",
      "  [ 6  7  8  9 10]\n",
      "  [11 12 13 14 15]]]\n"
     ]
    }
   ],
   "source": [
    "#Creating 3D numpy array \n",
    "c = np.array([[[1,2,3,4,5],\n",
    "                    [6,7,8,9,10],\n",
    "                    [11,12,13,14,15]],\n",
    "                    [[16,17,18,19,20],\n",
    "                    [6,7,8,9,10],\n",
    "                    [11,12,13,14,15]]],dtype=np.int32)\n",
    "\n",
    "print(c)"
   ]
  },
  {
   "cell_type": "code",
   "execution_count": 22,
   "metadata": {},
   "outputs": [
    {
     "name": "stdout",
     "output_type": "stream",
     "text": [
      "Array a : Dtype = int32 , Dimension = 2 , Shape = (2, 3) , Number of Element = 6 , Item Size = 4 , Bytes = 24\n",
      "Array b : Dtype = float32 , Dimension = 2 , Shape = (2, 3) , Number of Element = 6 , Item Size = 4 , Bytes = 24\n",
      "Array c : Dtype = int32 , Dimension = 3 , Shape = (2, 3, 5) , Number of Element = 30 , Item Size = 4 , Bytes = 120\n"
     ]
    }
   ],
   "source": [
    "# ndim: The number of dimensions of the array.\n",
    "\n",
    "# shape: A tuple of integers indicating the size of the array in each dimension. \n",
    "\n",
    "# size: The total number of elements in the array. It is equal to the product of the elements of the shape tuple.\n",
    "\n",
    "# itemsize: The size of each element in the array in bytes. \n",
    "\n",
    "# nbytes: The total number of bytes consumed by the elements of the array. It is calculated as itemsize times the size of the array. It represents the total memory consumption of the array's data.\n",
    "\n",
    "print(\"Array a : Dtype = \" + str(a.dtype) + \" , Dimension = \" + str(a.ndim) + \" , Shape = \" + str(a.shape) + \" , Number of Element = \" + str(a.size) + \" , Item Size = \" + str(a.itemsize) + \" , Bytes = \" + str(a.nbytes))\n",
    "print(\"Array b : Dtype = \" + str(b.dtype) + \" , Dimension = \" + str(b.ndim) + \" , Shape = \" + str(b.shape) + \" , Number of Element = \" + str(b.size) + \" , Item Size = \" + str(b.itemsize) + \" , Bytes = \" + str(b.nbytes))\n",
    "print(\"Array c : Dtype = \" + str(c.dtype) + \" , Dimension = \" + str(c.ndim) + \" , Shape = \" + str(c.shape) + \" , Number of Element = \" + str(c.size) + \" , Item Size = \" + str(c.itemsize) + \" , Bytes = \" + str(c.nbytes))\n"
   ]
  },
  {
   "cell_type": "markdown",
   "metadata": {},
   "source": [
    "#### Arange"
   ]
  },
  {
   "cell_type": "code",
   "execution_count": 122,
   "metadata": {},
   "outputs": [
    {
     "name": "stdout",
     "output_type": "stream",
     "text": [
      "[0 1 2 3 4 5]\n",
      "[[0 1 2 3 4]\n",
      " [5 6 7 8 9]]\n",
      "[[ 1  2  3  4  5]\n",
      " [ 6  7  8  9 10]]\n",
      "[[0 2]\n",
      " [4 6]]\n",
      "[[10  9  8]\n",
      " [ 7  6  5]\n",
      " [ 4  3  2]]\n"
     ]
    }
   ],
   "source": [
    "# Creating a 1D array with values from 0 to 5\n",
    "x = np.arange(6)\n",
    "print(x)\n",
    "\n",
    "# Creating a 2x5 array with values from 0 to 9\n",
    "x = np.arange(10).reshape(2,5)\n",
    "print(x)\n",
    "\n",
    "# Creating a 3x3 array with values from 1 to 9\n",
    "x = np.arange(1, 11).reshape(2,5)\n",
    "print(x)\n",
    "\n",
    "# Creating a 2x4 array with values from 0 to 7 with a step of 2\n",
    "x = np.arange(0, 8, 2).reshape(2,2)\n",
    "print(x)\n",
    "\n",
    "# Creating a 3x3 array with values from 10 to 1 (decreasing order)\n",
    "x = np.arange(10, 1, -1).reshape(3, 3)\n",
    "print(x)\n"
   ]
  },
  {
   "cell_type": "markdown",
   "metadata": {},
   "source": [
    "#### Identity matrix"
   ]
  },
  {
   "cell_type": "code",
   "execution_count": 123,
   "metadata": {},
   "outputs": [
    {
     "data": {
      "text/plain": [
       "array([[1., 0., 0., 0., 0.],\n",
       "       [0., 1., 0., 0., 0.],\n",
       "       [0., 0., 1., 0., 0.],\n",
       "       [0., 0., 0., 1., 0.],\n",
       "       [0., 0., 0., 0., 1.]])"
      ]
     },
     "execution_count": 123,
     "metadata": {},
     "output_type": "execute_result"
    }
   ],
   "source": [
    "# The identity matrix\n",
    "np.identity(5)"
   ]
  },
  {
   "cell_type": "markdown",
   "metadata": {},
   "source": [
    "#### Repeat an array"
   ]
  },
  {
   "cell_type": "code",
   "execution_count": 129,
   "metadata": {},
   "outputs": [
    {
     "name": "stdout",
     "output_type": "stream",
     "text": [
      "[[1 2 3]\n",
      " [1 2 3]\n",
      " [1 2 3]]\n",
      "[[1 1 1 2 2 2 3 3 3]]\n"
     ]
    }
   ],
   "source": [
    "# Creating a NumPy array 'a' with shape (1, 3)\n",
    "a = np.array([[1, 2, 3]])\n",
    "\n",
    "# Repeating array 'a' along axis 0, resulting in an array 'b' with shape (3, 3)\n",
    "b = np.repeat(a, 3, axis=0)\n",
    "print(b)  \n",
    "\n",
    "# Repeating array 'a' along axis 1, resulting in an array 'c' with shape (1, 9)\n",
    "c = np.repeat(a, 3, axis=1)\n",
    "print(c)  "
   ]
  },
  {
   "cell_type": "markdown",
   "metadata": {},
   "source": [
    "### Accessing/Changing Specific Elements, Rows, Columns, etc (slicing)"
   ]
  },
  {
   "cell_type": "code",
   "execution_count": 112,
   "metadata": {},
   "outputs": [
    {
     "name": "stdout",
     "output_type": "stream",
     "text": [
      "9\n",
      "[1 2 3 4 5]\n",
      "[ 5 10]\n",
      "5\n",
      "[ 1  2  3  4 99]\n",
      "[99 99]\n"
     ]
    }
   ],
   "source": [
    "# Creating a NumPy array 'a' with 2 rows and 5 columns\n",
    "a = np.array([[1, 2, 3, 4, 5],\n",
    "              [6, 7, 8, 9, 10]])\n",
    "\n",
    "# Accessing and printing the element at row 1, column 3 (indexing starts from 0)\n",
    "print(a[1, 3])\n",
    "\n",
    "# Accessing and printing the entire first row of the array\n",
    "print(a[0, :])\n",
    "\n",
    "# Accessing and printing the entire fifth column of the array\n",
    "print(a[:, 4])\n",
    "\n",
    "# Modifying the element at row 1, column 3 to 5\n",
    "a[1, 3] = 5\n",
    "\n",
    "# Modifying the entire fifth column to 99\n",
    "a[:, 4] = 99\n",
    "\n",
    "# Printing the modified element at row 1, column 3\n",
    "print(a[1, 3])\n",
    "\n",
    "# Printing the modified entire first row of the array\n",
    "print(a[0, :])\n",
    "\n",
    "# Printing the modified entire fifth column of the array\n",
    "print(a[:, 4])\n"
   ]
  },
  {
   "cell_type": "markdown",
   "metadata": {},
   "source": [
    "### Filling Array"
   ]
  },
  {
   "cell_type": "code",
   "execution_count": 30,
   "metadata": {},
   "outputs": [],
   "source": [
    "# Creating a 5x5 array filled with the value 5\n",
    "a = np.full(shape=(5, 5), fill_value=5)\n",
    "\n",
    "# Creating a 5x5 array filled with zeros and specifying the data type as int32\n",
    "b = np.zeros(shape=(5, 5), dtype=np.int32)\n",
    "\n",
    "# Creating a 5x5 array filled with ones (data type will be float by default)\n",
    "c = np.ones(shape=(5, 5))\n",
    "\n",
    "# Creating a 5x5 array with uninitialized values (the values will be whatever happens to already exist at that memory location)\n",
    "d = np.empty(shape=(5, 5))\n",
    "\n",
    "# Creating an array with values from 0 to 100, incrementing by 5\n",
    "e = np.arange(0, 105, 5)\n"
   ]
  },
  {
   "cell_type": "code",
   "execution_count": 31,
   "metadata": {},
   "outputs": [
    {
     "name": "stdout",
     "output_type": "stream",
     "text": [
      "Array 'a':\n",
      "[[5 5 5 5 5]\n",
      " [5 5 5 5 5]\n",
      " [5 5 5 5 5]\n",
      " [5 5 5 5 5]\n",
      " [5 5 5 5 5]]\n",
      "\n",
      "Array 'b':\n",
      "[[0 0 0 0 0]\n",
      " [0 0 0 0 0]\n",
      " [0 0 0 0 0]\n",
      " [0 0 0 0 0]\n",
      " [0 0 0 0 0]]\n",
      "\n",
      "Array 'c':\n",
      "[[1. 1. 1. 1. 1.]\n",
      " [1. 1. 1. 1. 1.]\n",
      " [1. 1. 1. 1. 1.]\n",
      " [1. 1. 1. 1. 1.]\n",
      " [1. 1. 1. 1. 1.]]\n",
      "\n",
      "Array 'd':\n",
      "[[1. 1. 1. 1. 1.]\n",
      " [1. 1. 1. 1. 1.]\n",
      " [1. 1. 1. 1. 1.]\n",
      " [1. 1. 1. 1. 1.]\n",
      " [1. 1. 1. 1. 1.]]\n",
      "\n",
      "Array 'e':\n",
      "[  0   5  10  15  20  25  30  35  40  45  50  55  60  65  70  75  80  85\n",
      "  90  95 100]\n"
     ]
    }
   ],
   "source": [
    "print(\"Array 'a':\")\n",
    "print(a)\n",
    "print(\"\\nArray 'b':\")\n",
    "print(b)\n",
    "print(\"\\nArray 'c':\")\n",
    "print(c)\n",
    "print(\"\\nArray 'd':\")\n",
    "print(d)\n",
    "print(\"\\nArray 'e':\")\n",
    "print(e)"
   ]
  },
  {
   "cell_type": "markdown",
   "metadata": {},
   "source": [
    "### Mathematical Operations"
   ]
  },
  {
   "cell_type": "code",
   "execution_count": 39,
   "metadata": {},
   "outputs": [
    {
     "name": "stdout",
     "output_type": "stream",
     "text": [
      "[1, 2, 3, 4, 5, 1, 2, 3, 4, 5, 1, 2, 3, 4, 5]\n",
      "[ 3  6  9 12 15]\n",
      "[1, 2, 3, 4, 5, 6, 7, 8, 9, 10]\n",
      "[ 7  9 11 13 15]\n",
      "[ 6 14 24 36 50]\n",
      "[0.16666667 0.28571429 0.375      0.44444444 0.5       ]\n",
      "[-5 -5 -5 -5 -5]\n"
     ]
    }
   ],
   "source": [
    "# Defining lists l1 and l2\n",
    "l1 = [1, 2, 3, 4, 5]\n",
    "l2 = [6, 7, 8, 9, 10]\n",
    "\n",
    "# Creating NumPy arrays a1 and a2 from l1 and l2 \n",
    "a1 = np.array(l1)\n",
    "a2 = np.array(l2)\n",
    "\n",
    "print(l1*3)\n",
    "print(a1*3)\n",
    "\n",
    "print(l1+l2)\n",
    "print(a1+a2)\n",
    "\n",
    "# print(l1*l2) Invalid operation\n",
    "print(a1*a2)\n",
    "\n",
    "# print(l1/l2) Invalid operation\n",
    "print(a1/a2)\n",
    "\n",
    "# print(l1-l2) Invalid operation\n",
    "print(a1-a2)"
   ]
  },
  {
   "cell_type": "markdown",
   "metadata": {},
   "source": [
    "##### Mathematical functions"
   ]
  },
  {
   "cell_type": "code",
   "execution_count": 43,
   "metadata": {},
   "outputs": [
    {
     "name": "stdout",
     "output_type": "stream",
     "text": [
      "[1.41421356 2.23606798 3.         4.         5.        ]\n",
      "[ 0.90929743 -0.95892427  0.41211849 -0.28790332 -0.13235175]\n",
      "[-0.41614684  0.28366219 -0.91113026 -0.95765948  0.99120281]\n",
      "[0.69314718 1.60943791 2.19722458 2.77258872 3.21887582]\n",
      "[7.38905610e+00 1.48413159e+02 8.10308393e+03 8.88611052e+06\n",
      " 7.20048993e+10]\n"
     ]
    }
   ],
   "source": [
    "# Creating a NumPy array 'a'\n",
    "a = np.array([2, 5, 9, 16, 25])\n",
    "\n",
    "# Computing the square root of each element in array 'a'\n",
    "print(np.sqrt(a))\n",
    "\n",
    "# Computing the sine of each element in array 'a'\n",
    "print(np.sin(a))\n",
    "\n",
    "# Computing the cosine of each element in array 'a'\n",
    "print(np.cos(a))\n",
    "\n",
    "# Computing the natural logarithm of each element in array 'a'\n",
    "print(np.log(a))\n",
    "\n",
    "# Computing the exponential of each element in array 'a'\n",
    "print(np.exp(a))"
   ]
  },
  {
   "cell_type": "markdown",
   "metadata": {},
   "source": [
    "### Array Methods"
   ]
  },
  {
   "cell_type": "code",
   "execution_count": 51,
   "metadata": {},
   "outputs": [
    {
     "name": "stdout",
     "output_type": "stream",
     "text": [
      "[1 2 3 4]\n",
      "[1 2 3 4 6]\n",
      "[1 2 3 4 6 7 8]\n",
      "[1 2 3 4 5 6 7 8]\n"
     ]
    }
   ],
   "source": [
    "# Creating a NumPy array 'a'\n",
    "a = np.array([1, 2, 3, 4])\n",
    "print(a)\n",
    "\n",
    "# Appending element 6 to the end of array 'a'\n",
    "a = np.append(a, 6)\n",
    "print(a)\n",
    "\n",
    "# Appending elements 7 and 8 to the end of array 'a'\n",
    "a = np.append(a, [7, 8])\n",
    "print(a)\n",
    "\n",
    "# Inserting element 5 at index 4 in array 'a'\n",
    "a = np.insert(a, 4, 5)\n",
    "print(a)\n"
   ]
  },
  {
   "cell_type": "markdown",
   "metadata": {},
   "source": [
    "#### Delete method"
   ]
  },
  {
   "cell_type": "code",
   "execution_count": 59,
   "metadata": {},
   "outputs": [
    {
     "name": "stdout",
     "output_type": "stream",
     "text": [
      "[1 3 4 5 6]\n",
      "[1 2 3 5 6]\n",
      "[1 2 3 4 6]\n",
      "[[4 5 6]]\n",
      "[[1 2 3]]\n",
      "[[2 3]\n",
      " [5 6]]\n",
      "[[1 3]\n",
      " [4 6]]\n"
     ]
    }
   ],
   "source": [
    "# Creating a NumPy array 'a' with 2 rows and 3 columns\n",
    "a = np.array([[1, 2, 3],\n",
    "              [4, 5, 6]])\n",
    "\n",
    "# Deleting the second element (1D view of array 'a')\n",
    "print(np.delete(a, 1))\n",
    "\n",
    "# Deleting the fourth element (1D view of array 'a')\n",
    "print(np.delete(a, 3))\n",
    "\n",
    "# Deleting the fifth element (1D view of array 'a')\n",
    "print(np.delete(a, 4))\n",
    "\n",
    "# Deleting the first row of array 'a'\n",
    "print(np.delete(a, 0, 0))\n",
    "\n",
    "# Deleting the second row of array 'a'\n",
    "print(np.delete(a, 1, 0))\n",
    "\n",
    "# Deleting the first column of array 'a'\n",
    "print(np.delete(a, 0, 1))\n",
    "\n",
    "# Deleting the second column of array 'a'\n",
    "print(np.delete(a, 1, 1))"
   ]
  },
  {
   "cell_type": "markdown",
   "metadata": {},
   "source": [
    "### Structuring Methods"
   ]
  },
  {
   "cell_type": "code",
   "execution_count": 136,
   "metadata": {},
   "outputs": [
    {
     "name": "stdout",
     "output_type": "stream",
     "text": [
      "[[ 1  2  3  4]\n",
      " [ 5  6  7  8]\n",
      " [ 9 10 11 12]\n",
      " [13 14 15 16]\n",
      " [17 18 19 20]]\n",
      "[[ 1  2  3  4  5]\n",
      " [ 6  7  8  9 10]\n",
      " [11 12 13 14 15]\n",
      " [16 17 18 19 20]]\n",
      "[ 1  2  3  4  5  6  7  8  9 10 11 12 13 14 15 16 17 18 19 20]\n",
      "[[ 1]\n",
      " [ 2]\n",
      " [ 3]\n",
      " [ 4]\n",
      " [ 5]\n",
      " [ 6]\n",
      " [ 7]\n",
      " [ 8]\n",
      " [ 9]\n",
      " [10]\n",
      " [11]\n",
      " [12]\n",
      " [13]\n",
      " [14]\n",
      " [15]\n",
      " [16]\n",
      " [17]\n",
      " [18]\n",
      " [19]\n",
      " [20]]\n"
     ]
    }
   ],
   "source": [
    "# Creating a NumPy array 'a' with shape (5, 4) containing numbers from 1 to 20\n",
    "a = np.arange(1, 21).reshape(5, 4)\n",
    "print(a)  # Printing the original array\n",
    "\n",
    "# Reshaping 'a' to shape (4, 5)\n",
    "print(a.reshape(4, 5))  \n",
    "\n",
    "# Reshaping 'a' to a 1D array with shape (20,)\n",
    "print(a.reshape(20,)) \n",
    "\n",
    "# Reshaping 'a' to a column vector with shape (20, 1)\n",
    "print(a.reshape(20, 1))  "
   ]
  },
  {
   "cell_type": "markdown",
   "metadata": {},
   "source": [
    "### Concatenating, Stacking"
   ]
  },
  {
   "cell_type": "code",
   "execution_count": 67,
   "metadata": {},
   "outputs": [
    {
     "name": "stdout",
     "output_type": "stream",
     "text": [
      "[[ 1  2  3]\n",
      " [ 4  5  6]\n",
      " [ 7  8  9]\n",
      " [10 11 12]]\n",
      "[[ 1  2  3  7  8  9]\n",
      " [ 4  5  6 10 11 12]]\n",
      "[[[ 1  2  3]\n",
      "  [ 4  5  6]]\n",
      "\n",
      " [[ 7  8  9]\n",
      "  [10 11 12]]]\n"
     ]
    }
   ],
   "source": [
    "# Creating NumPy arrays 'a' and 'b' with 2 rows and 3 columns each\n",
    "a = np.array([[1, 2, 3],\n",
    "              [4, 5, 6]])\n",
    "\n",
    "b = np.array([[7, 8, 9],\n",
    "              [10, 11, 12]])\n",
    "\n",
    "# Concatenating arrays 'a' and 'b' along axis 0 (vertically stacking)\n",
    "c = np.concatenate((a, b), axis=0)\n",
    "print(c)\n",
    "\n",
    "# Concatenating arrays 'a' and 'b' along axis 1 (horizontally stacking)\n",
    "d = np.concatenate((a, b), axis=1)\n",
    "print(d)\n",
    "\n",
    "# Stacking arrays 'a' and 'b' along a new axis (axis 0 by default)\n",
    "e = np.stack((a, b))\n",
    "print(e)\n"
   ]
  },
  {
   "cell_type": "markdown",
   "metadata": {},
   "source": [
    "#### Splitting"
   ]
  },
  {
   "cell_type": "code",
   "execution_count": 78,
   "metadata": {},
   "outputs": [
    {
     "name": "stdout",
     "output_type": "stream",
     "text": [
      "[array([[ 0,  1,  2,  3],\n",
      "       [ 4,  5,  6,  7],\n",
      "       [ 8,  9, 10, 11]]), array([[12, 13, 14, 15],\n",
      "       [16, 17, 18, 19],\n",
      "       [20, 21, 22, 23]])]\n",
      "[array([[ 0,  1],\n",
      "       [ 4,  5],\n",
      "       [ 8,  9],\n",
      "       [12, 13],\n",
      "       [16, 17],\n",
      "       [20, 21]]), array([[ 2,  3],\n",
      "       [ 6,  7],\n",
      "       [10, 11],\n",
      "       [14, 15],\n",
      "       [18, 19],\n",
      "       [22, 23]])]\n"
     ]
    }
   ],
   "source": [
    "# Creating a NumPy array 'x' with 6 rows and 4 columns\n",
    "x = np.array([[ 0,  1,  2,  3],\n",
    "              [ 4,  5,  6,  7],\n",
    "              [ 8,  9, 10, 11],\n",
    "              [12, 13, 14, 15],\n",
    "              [16, 17, 18, 19],\n",
    "              [20, 21, 22, 23]])\n",
    "\n",
    "# Splitting array 'x' into 2 equal parts along axis 0\n",
    "print(np.split(x, 2, axis=0))\n",
    "\n",
    "# Splitting array 'x' into 2 equal parts along axis 1\n",
    "print(np.split(x, 2, axis=1))"
   ]
  },
  {
   "cell_type": "markdown",
   "metadata": {},
   "source": [
    "### Aggregate Functions"
   ]
  },
  {
   "cell_type": "code",
   "execution_count": 76,
   "metadata": {},
   "outputs": [
    {
     "name": "stdout",
     "output_type": "stream",
     "text": [
      "Maximum value in the array: 23\n",
      "Minimum value in the array: 0\n",
      "Sum of all elements in the array: 276\n",
      "Mean (average) of all elements in the array: 11.5\n"
     ]
    }
   ],
   "source": [
    "# Creating a NumPy array 'x' with 6 rows and 4 columns\n",
    "x = np.array([[ 0,  1,  2,  3],\n",
    "              [ 4,  5,  6,  7],\n",
    "              [ 8,  9, 10, 11],\n",
    "              [12, 13, 14, 15],\n",
    "              [16, 17, 18, 19],\n",
    "              [20, 21, 22, 23]])\n",
    "\n",
    "# Finding the maximum value in array 'x'\n",
    "print(\"Maximum value in the array:\", x.max())\n",
    "\n",
    "# Finding the minimum value in array 'x'\n",
    "print(\"Minimum value in the array:\", x.min())\n",
    "\n",
    "# Finding the sum of all elements in array 'x'\n",
    "print(\"Sum of all elements in the array:\", x.sum())\n",
    "\n",
    "# Finding the mean (average) of all elements in array 'x'\n",
    "print(\"Mean (average) of all elements in the array:\", x.mean())"
   ]
  },
  {
   "cell_type": "markdown",
   "metadata": {},
   "source": [
    "### NumPy Random"
   ]
  },
  {
   "cell_type": "code",
   "execution_count": 111,
   "metadata": {},
   "outputs": [
    {
     "name": "stdout",
     "output_type": "stream",
     "text": [
      "[[93 43 46 88 91]\n",
      " [29 70 27 62 45]]\n",
      "[[17 13 16 19 15]\n",
      " [13 15 10 12 10]]\n",
      "[[40 10 10 20 10]\n",
      " [10 40 40 50 10]]\n",
      "[[0.87303252 0.0585809  0.82760964 0.06650081 0.96418032]\n",
      " [0.1008299  0.17940518 0.60413975 0.26726236 0.00995943]]\n"
     ]
    }
   ],
   "source": [
    "# Generating a NumPy array of random integers with values ranging from 0 to 99,\n",
    "# and with a shape of 2 rows and 5 columns\n",
    "numbers = np.random.randint(100, size=(2, 5))\n",
    "print(numbers)\n",
    "\n",
    "# Generating a NumPy array of random integers with values ranging from 10 to 19,\n",
    "# and with a shape of 2 rows and 5 columns\n",
    "numbers = np.random.randint(10, 20, size=(2, 5))\n",
    "print(numbers)\n",
    "\n",
    "# Generating a NumPy array of random choices from the given list,\n",
    "# and with a shape of 2 rows and 5 columns\n",
    "numbers = np.random.choice([10, 20, 30, 40, 50], size=(2, 5))\n",
    "print(numbers)\n",
    "\n",
    "# Generating a NumPy array of random numbers in the range [0, 1),\n",
    "# with a shape of 2 rows and 5 columns\n",
    "numbers = np.random.rand(2, 5)\n",
    "print(numbers)"
   ]
  },
  {
   "cell_type": "markdown",
   "metadata": {},
   "source": [
    "### Exporting"
   ]
  },
  {
   "cell_type": "code",
   "execution_count": 101,
   "metadata": {},
   "outputs": [],
   "source": [
    "# Creating a NumPy array 'x' with 6 rows and 4 columns\n",
    "x = np.array([[0, 1, 2, 3],\n",
    "              [4, 5, 6, 7],\n",
    "              [8, 9, 10, 11],\n",
    "              [12, 13, 14, 15],\n",
    "              [16, 17, 18, 19],\n",
    "              [20, 21, 22, 23]])\n",
    "\n",
    "# Saving the NumPy array 'x' to an NPY file\n",
    "np.save(\"array.npy\", x)\n",
    "\n",
    "# Saving the NumPy array 'x' to a CSV file with comma as delimiter\n",
    "np.savetxt(\"array.csv\", x, delimiter=\",\")"
   ]
  },
  {
   "cell_type": "markdown",
   "metadata": {},
   "source": [
    "### Importing"
   ]
  },
  {
   "cell_type": "code",
   "execution_count": 104,
   "metadata": {},
   "outputs": [
    {
     "name": "stdout",
     "output_type": "stream",
     "text": [
      "Array loaded from NPY file:\n",
      "[[ 0  1  2  3]\n",
      " [ 4  5  6  7]\n",
      " [ 8  9 10 11]\n",
      " [12 13 14 15]\n",
      " [16 17 18 19]\n",
      " [20 21 22 23]]\n",
      "Array loaded from CSV file:\n",
      "[[ 0.  1.  2.  3.]\n",
      " [ 4.  5.  6.  7.]\n",
      " [ 8.  9. 10. 11.]\n",
      " [12. 13. 14. 15.]\n",
      " [16. 17. 18. 19.]\n",
      " [20. 21. 22. 23.]]\n"
     ]
    }
   ],
   "source": [
    "# Loading the NumPy array from the NPY file\n",
    "y = np.load(\"array.npy\")\n",
    "print(\"Array loaded from NPY file:\")\n",
    "print(y)\n",
    "\n",
    "# Loading the NumPy array from the CSV file\n",
    "z = np.loadtxt(\"array.csv\", delimiter=\",\")\n",
    "print(\"Array loaded from CSV file:\")\n",
    "print(z)\n"
   ]
  }
 ],
 "metadata": {
  "kernelspec": {
   "display_name": "Python 3",
   "language": "python",
   "name": "python3"
  },
  "language_info": {
   "codemirror_mode": {
    "name": "ipython",
    "version": 3
   },
   "file_extension": ".py",
   "mimetype": "text/x-python",
   "name": "python",
   "nbconvert_exporter": "python",
   "pygments_lexer": "ipython3",
   "version": "3.10.0"
  }
 },
 "nbformat": 4,
 "nbformat_minor": 2
}
